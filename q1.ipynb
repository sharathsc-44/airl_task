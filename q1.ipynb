{
  "nbformat": 4,
  "nbformat_minor": 0,
  "metadata": {
    "colab": {
      "provenance": [],
      "gpuType": "T4"
    },
    "kernelspec": {
      "name": "python3",
      "display_name": "Python 3"
    },
    "language_info": {
      "name": "python"
    },
    "accelerator": "GPU"
  },
  "cells": [
    {
      "cell_type": "code",
      "execution_count": 1,
      "metadata": {
        "colab": {
          "base_uri": "https://localhost:8080/"
        },
        "id": "4MgDnzKIv2V0",
        "outputId": "0f545d56-1052-4a44-bfc0-3f8ced11009c"
      },
      "outputs": [
        {
          "output_type": "stream",
          "name": "stderr",
          "text": [
            "100%|██████████| 170M/170M [00:03<00:00, 43.5MB/s]\n"
          ]
        }
      ],
      "source": [
        "!pip install -q torch torchvision\n",
        "\n",
        "import torchvision\n",
        "from torchvision import transforms\n",
        "from torchvision.datasets import CIFAR10\n",
        "\n",
        "# Normalization values for CIFAR-10\n",
        "mean = (0.4914, 0.4822, 0.4465)\n",
        "std = (0.2470, 0.2435, 0.2616)\n",
        "\n",
        "train_transform = transforms.Compose([\n",
        "    transforms.RandomCrop(32, padding=4),\n",
        "    transforms.RandomHorizontalFlip(),\n",
        "    transforms.AutoAugment(policy=transforms.AutoAugmentPolicy.IMAGENET),\n",
        "    transforms.ToTensor(),\n",
        "    transforms.Normalize(mean, std),\n",
        "])\n",
        "\n",
        "test_transform = transforms.Compose([\n",
        "    transforms.ToTensor(),\n",
        "    transforms.Normalize(mean, std),\n",
        "])\n",
        "\n",
        "train_set = CIFAR10(root='./data', train=True, download=True, transform=train_transform)\n",
        "test_set  = CIFAR10(root='./data', train=False, download=True, transform=test_transform)\n"
      ]
    },
    {
      "cell_type": "code",
      "source": [
        "!pip install -q torch torchvision timm"
      ],
      "metadata": {
        "id": "hJ2dqtJCwgcU"
      },
      "execution_count": 2,
      "outputs": []
    },
    {
      "cell_type": "code",
      "source": [
        "import argparse\n",
        "import math\n",
        "import os\n",
        "import random\n",
        "from functools import partial\n",
        "from typing import Optional\n",
        "\n",
        "import torch\n",
        "import torch.nn as nn\n",
        "import torch.nn.functional as F\n",
        "from torch.utils.data import DataLoader\n",
        "import torchvision\n",
        "from torchvision import transforms\n",
        "from torchvision.datasets import CIFAR10\n",
        "from torch.optim import AdamW\n",
        "from torch.optim.lr_scheduler import LambdaLR\n",
        "from tqdm import tqdm"
      ],
      "metadata": {
        "id": "KXTAl_BIwskM"
      },
      "execution_count": 3,
      "outputs": []
    },
    {
      "cell_type": "code",
      "source": [
        "# Utilities\n",
        "# ---------------------------\n",
        "def set_seed(seed: int = 42):\n",
        "    random.seed(seed)\n",
        "    torch.manual_seed(seed)\n",
        "    torch.cuda.manual_seed_all(seed)\n",
        "\n",
        "\n",
        "def accuracy(output, target, topk=(1,)):\n",
        "    \"\"\"Computes the precision@k for the specified values of k\"\"\"\n",
        "    with torch.no_grad():\n",
        "        maxk = max(topk)\n",
        "        batch_size = target.size(0)\n",
        "\n",
        "        _, pred = output.topk(maxk, 1, True, True)\n",
        "        pred = pred.t()\n",
        "        correct = pred.eq(target.view(1, -1).expand_as(pred))\n",
        "\n",
        "        res = []\n",
        "        for k in topk:\n",
        "            correct_k = correct[:k].reshape(-1).float().sum(0, keepdim=True)\n",
        "            res.append((correct_k.mul_(100.0 / batch_size)).item())\n",
        "        return res\n"
      ],
      "metadata": {
        "id": "_E2jNEiMwt-D"
      },
      "execution_count": 4,
      "outputs": []
    },
    {
      "cell_type": "code",
      "source": [
        "# MixUp helper (optional)\n",
        "# ---------------------------\n",
        "def mixup_data(x, y, alpha=1.0, device='cuda'):\n",
        "    if alpha <= 0:\n",
        "        return x, y, None, 1.0\n",
        "    lam = np.random.beta(alpha, alpha)\n",
        "    batch_size = x.size()[0]\n",
        "    index = torch.randperm(batch_size).to(device)\n",
        "    mixed_x = lam * x + (1 - lam) * x[index, :]\n",
        "    y_a, y_b = y, y[index]\n",
        "    return mixed_x, y_a, y_b, lam\n"
      ],
      "metadata": {
        "id": "cBcF0y2fwyAX"
      },
      "execution_count": 5,
      "outputs": []
    },
    {
      "cell_type": "code",
      "source": [
        "# Vision Transformer (ViT)\n",
        "# ---------------------------\n",
        "class PatchEmbed(nn.Module):\n",
        "    \"\"\"Split image into patches and embed them.\"\"\"\n",
        "    def __init__(self, img_size=32, patch_size=4, in_chans=3, embed_dim=256):\n",
        "        super().__init__()\n",
        "        assert img_size % patch_size == 0, 'Image size must be divisible by patch size.'\n",
        "        self.img_size = img_size\n",
        "        self.patch_size = patch_size\n",
        "        self.grid_size = img_size // patch_size\n",
        "        num_patches = self.grid_size * self.grid_size\n",
        "        self.num_patches = num_patches\n",
        "\n",
        "        # Implement as a conv layer for speed: kernel=patch_size, stride=patch_size\n",
        "        self.proj = nn.Conv2d(in_chans, embed_dim, kernel_size=patch_size, stride=patch_size)\n",
        "        # After conv, flatten to (B, num_patches, embed_dim)\n",
        "\n",
        "    def forward(self, x):\n",
        "        # x: (B, C, H, W)\n",
        "        x = self.proj(x)  # (B, embed_dim, H/patch, W/patch)\n",
        "        x = x.flatten(2).transpose(1, 2)  # (B, num_patches, embed_dim)\n",
        "        return x\n",
        "\n",
        "\n",
        "class MLP(nn.Module):\n",
        "    def __init__(self, in_dim, hidden_dim, out_dim=None, dropout=0.):\n",
        "        out_dim = out_dim or in_dim\n",
        "        super().__init__()\n",
        "        self.fc1 = nn.Linear(in_dim, hidden_dim)\n",
        "        self.act = nn.GELU()\n",
        "        self.fc2 = nn.Linear(hidden_dim, out_dim)\n",
        "        self.drop = nn.Dropout(dropout)\n",
        "\n",
        "    def forward(self, x):\n",
        "        x = self.fc1(x)\n",
        "        x = self.act(x)\n",
        "        x = self.drop(x)\n",
        "        x = self.fc2(x)\n",
        "        x = self.drop(x)\n",
        "        return x\n",
        "\n",
        "\n",
        "class TransformerEncoderLayer(nn.Module):\n",
        "    def __init__(self, dim, num_heads=8, mlp_ratio=4.0, dropout=0., attn_dropout=0., norm_layer=nn.LayerNorm):\n",
        "        super().__init__()\n",
        "        self.norm1 = norm_layer(dim)\n",
        "        self.attn = nn.MultiheadAttention(embed_dim=dim, num_heads=num_heads, dropout=attn_dropout, batch_first=True)\n",
        "        self.drop_path = nn.Identity()  # placeholder for stochastic depth if desired\n",
        "        self.norm2 = norm_layer(dim)\n",
        "        mlp_hidden_dim = int(dim * mlp_ratio)\n",
        "        self.mlp = MLP(dim, mlp_hidden_dim, dropout=dropout)\n",
        "\n",
        "    def forward(self, x):\n",
        "        # x: (B, N, dim)\n",
        "        x_norm = self.norm1(x)\n",
        "        attn_out, _ = self.attn(x_norm, x_norm, x_norm, need_weights=False)  # (B, N, dim)\n",
        "        x = x + attn_out\n",
        "        x = x + self.mlp(self.norm2(x))\n",
        "        return x\n",
        "\n",
        "\n",
        "class ViT(nn.Module):\n",
        "    def __init__(\n",
        "        self,\n",
        "        img_size=32,\n",
        "        patch_size=4,\n",
        "        in_chans=3,\n",
        "        num_classes=10,\n",
        "        embed_dim=256,\n",
        "        depth=8,\n",
        "        num_heads=8,\n",
        "        mlp_ratio=2.0,\n",
        "        dropout=0.0,\n",
        "        emb_dropout=0.0,\n",
        "    ):\n",
        "        super().__init__()\n",
        "        self.patch_embed = PatchEmbed(img_size=img_size, patch_size=patch_size, in_chans=in_chans, embed_dim=embed_dim)\n",
        "        num_patches = self.patch_embed.num_patches\n",
        "\n",
        "        # CLS token\n",
        "        self.cls_token = nn.Parameter(torch.zeros(1, 1, embed_dim))\n",
        "        # Position embeddings (including cls token)\n",
        "        self.pos_embed = nn.Parameter(torch.zeros(1, num_patches + 1, embed_dim))\n",
        "        self.pos_drop = nn.Dropout(p=emb_dropout)\n",
        "\n",
        "        # Transformer encoder\n",
        "        self.blocks = nn.ModuleList([\n",
        "            TransformerEncoderLayer(\n",
        "                dim=embed_dim,\n",
        "                num_heads=num_heads,\n",
        "                mlp_ratio=mlp_ratio,\n",
        "                dropout=dropout,\n",
        "                attn_dropout=dropout,\n",
        "            )\n",
        "            for _ in range(depth)\n",
        "        ])\n",
        "        self.norm = nn.LayerNorm(embed_dim)\n",
        "\n",
        "        # Classifier head\n",
        "        self.head = nn.Linear(embed_dim, num_classes)\n",
        "\n",
        "        # Initialization\n",
        "        self._init_weights()\n",
        "\n",
        "    def _init_weights(self):\n",
        "        nn.init.trunc_normal_(self.pos_embed, std=0.02)\n",
        "        nn.init.trunc_normal_(self.cls_token, std=0.02)\n",
        "        # head init\n",
        "        nn.init.zeros_(self.head.weight)\n",
        "        nn.init.zeros_(self.head.bias)\n",
        "        # patch proj uses default kaiming\n",
        "\n",
        "    def forward(self, x):\n",
        "        # x: (B, C, H, W)\n",
        "        B = x.shape[0]\n",
        "        x = self.patch_embed(x)  # (B, num_patches, embed_dim)\n",
        "        cls_tokens = self.cls_token.expand(B, -1, -1)  # (B,1,embed_dim)\n",
        "        x = torch.cat((cls_tokens, x), dim=1)  # (B, num_patches+1, embed_dim)\n",
        "        x = x + self.pos_embed\n",
        "        x = self.pos_drop(x)\n",
        "\n",
        "        for blk in self.blocks:\n",
        "            x = blk(x)\n",
        "\n",
        "        x = self.norm(x)\n",
        "        cls = x[:, 0]  # (B, embed_dim)\n",
        "        logits = self.head(cls)\n",
        "        return logits\n",
        "\n"
      ],
      "metadata": {
        "id": "Q1B-NpJ4w0RT"
      },
      "execution_count": 6,
      "outputs": []
    },
    {
      "cell_type": "code",
      "source": [
        "# Training / Evaluation\n",
        "# ---------------------------\n",
        "import numpy as np\n",
        "from torch.cuda.amp import GradScaler, autocast\n",
        "\n",
        "def get_dataloaders(batch_size=128, num_workers=4, use_validation=True):\n",
        "    # Augmentations\n",
        "    train_transform = transforms.Compose([\n",
        "        transforms.RandomCrop(32, padding=4),\n",
        "        transforms.RandomHorizontalFlip(),\n",
        "        transforms.AutoAugment(policy=transforms.AutoAugmentPolicy.IMAGENET),\n",
        "        transforms.ToTensor(),\n",
        "        transforms.Normalize((0.4914, 0.4822, 0.4465), (0.2470, 0.2435, 0.2616)),\n",
        "    ])\n",
        "    test_transform = transforms.Compose([\n",
        "        transforms.ToTensor(),\n",
        "        transforms.Normalize((0.4914, 0.4822, 0.4465), (0.2470, 0.2435, 0.2616)),\n",
        "    ])\n",
        "\n",
        "    train_set = CIFAR10(root='./data', train=True, download=True, transform=train_transform)\n",
        "    test_set = CIFAR10(root='./data', train=False, download=True, transform=test_transform)\n",
        "\n",
        "    if use_validation:\n",
        "        val_ratio = 0.05\n",
        "        n = len(train_set)\n",
        "        n_val = int(val_ratio * n)\n",
        "        n_train = n - n_val\n",
        "        train_set, val_set = torch.utils.data.random_split(train_set, [n_train, n_val])\n",
        "        val_set.dataset.transform = test_transform\n",
        "        val_loader = DataLoader(val_set, batch_size=batch_size, shuffle=False, num_workers=num_workers, pin_memory=True)\n",
        "    else:\n",
        "        val_loader = None\n",
        "\n",
        "    train_loader = DataLoader(train_set, batch_size=batch_size, shuffle=True, num_workers=num_workers, pin_memory=True)\n",
        "    test_loader = DataLoader(test_set, batch_size=batch_size, shuffle=False, num_workers=num_workers, pin_memory=True)\n",
        "\n",
        "    return train_loader, val_loader, test_loader\n",
        "\n",
        "\n",
        "def cosine_scheduler_with_warmup(optimizer, warmup_epochs, max_epochs, base_lr, final_lr=0., last_epoch=-1):\n",
        "    # returns a LambdaLR scheduler\n",
        "    def lr_lambda(current_step):\n",
        "        current_epoch = current_step\n",
        "        if current_epoch < warmup_epochs:\n",
        "            return float(current_epoch) / float(max(1, warmup_epochs))\n",
        "        # cosine decay\n",
        "        progress = float(current_epoch - warmup_epochs) / float(max(1, max_epochs - warmup_epochs))\n",
        "        return max(0.0, 0.5 * (1.0 + math.cos(math.pi * progress))) * (1 - final_lr / base_lr) + final_lr/base_lr\n",
        "    return LambdaLR(optimizer, lr_lambda, last_epoch=last_epoch)\n",
        "\n",
        "\n",
        "def train_one_epoch(model, criterion, optimizer, data_loader, device, epoch, scaler=None, mixup_alpha=0.0):\n",
        "    model.train()\n",
        "    losses = []\n",
        "    top1 = 0.0\n",
        "    total = 0\n",
        "    pbar = tqdm(data_loader, desc=f\"Train E{epoch}\", leave=False)\n",
        "    for images, targets in pbar:\n",
        "        images = images.to(device, non_blocking=True)\n",
        "        targets = targets.to(device, non_blocking=True)\n",
        "\n",
        "        optimizer.zero_grad()\n",
        "        with autocast(enabled=(scaler is not None)):\n",
        "            outputs = model(images)\n",
        "            loss = criterion(outputs, targets)\n",
        "\n",
        "        if scaler is not None:\n",
        "            scaler.scale(loss).backward()\n",
        "            scaler.step(optimizer)\n",
        "            scaler.update()\n",
        "        else:\n",
        "            loss.backward()\n",
        "            optimizer.step()\n",
        "\n",
        "        acc1 = accuracy(outputs, targets, topk=(1,))[0]\n",
        "        losses.append(loss.item())\n",
        "        top1 += acc1 * images.size(0)\n",
        "        total += images.size(0)\n",
        "\n",
        "        pbar.set_postfix({'loss': f'{np.mean(losses):.4f}', 'acc1': f'{(top1/total):.2f}'})\n",
        "\n",
        "    return np.mean(losses), (top1 / total)\n",
        "\n",
        "\n",
        "def evaluate(model, criterion, data_loader, device):\n",
        "    model.eval()\n",
        "    losses = []\n",
        "    top1 = 0.0\n",
        "    total = 0\n",
        "    with torch.no_grad():\n",
        "        pbar = tqdm(data_loader, desc=\"Eval\", leave=False)\n",
        "        for images, targets in pbar:\n",
        "            images = images.to(device, non_blocking=True)\n",
        "            targets = targets.to(device, non_blocking=True)\n",
        "            outputs = model(images)\n",
        "            loss = criterion(outputs, targets)\n",
        "            acc1 = accuracy(outputs, targets, topk=(1,))[0]\n",
        "            losses.append(loss.item())\n",
        "            top1 += acc1 * images.size(0)\n",
        "            total += images.size(0)\n",
        "            pbar.set_postfix({'loss': f'{np.mean(losses):.4f}', 'acc1': f'{(top1/total):.2f}'})\n",
        "    return np.mean(losses), (top1 / total)\n"
      ],
      "metadata": {
        "id": "zJkrvV2qw6L7"
      },
      "execution_count": 7,
      "outputs": []
    },
    {
      "cell_type": "code",
      "source": [
        "# Main: training entrypoint and Utilities\n",
        "# ---------------------------\n",
        "import argparse\n",
        "import math\n",
        "import os\n",
        "import random\n",
        "from functools import partial\n",
        "from typing import Optional\n",
        "\n",
        "import torch\n",
        "import torch.nn as nn\n",
        "import torch.nn.functional as F\n",
        "from torch.utils.data import DataLoader\n",
        "import torchvision\n",
        "from torchvision import transforms\n",
        "from torchvision.datasets import CIFAR10\n",
        "from torch.optim import AdamW\n",
        "from torch.optim.lr_scheduler import LambdaLR\n",
        "from tqdm import tqdm\n",
        "import numpy as np\n",
        "from torch.cuda.amp import GradScaler, autocast\n",
        "\n",
        "# Utilities\n",
        "# ---------------------------\n",
        "def set_seed(seed: int = 42):\n",
        "    random.seed(seed)\n",
        "    torch.manual_seed(seed)\n",
        "    torch.cuda.manual_seed_all(seed)\n",
        "\n",
        "\n",
        "def accuracy(output, target, topk=(1,)):\n",
        "    \"\"\"Computes the precision@k for the specified values of k\"\"\"\n",
        "    with torch.no_grad():\n",
        "        maxk = max(topk)\n",
        "        batch_size = target.size(0)\n",
        "\n",
        "        _, pred = output.topk(maxk, 1, True, True)\n",
        "        pred = pred.t()\n",
        "        correct = pred.eq(target.view(1, -1).expand_as(pred))\n",
        "\n",
        "        res = []\n",
        "        for k in topk:\n",
        "            correct_k = correct[:k].reshape(-1).float().sum(0, keepdim=True)\n",
        "            res.append((correct_k.mul_(100.0 / batch_size)).item())\n",
        "        return res\n",
        "\n",
        "\n",
        "# MixUp helper (optional)\n",
        "# ---------------------------\n",
        "def mixup_data(x, y, alpha=1.0, device='cuda'):\n",
        "    if alpha <= 0:\n",
        "        return x, y, None, 1.0\n",
        "    lam = np.random.beta(alpha, alpha)\n",
        "    batch_size = x.size()[0]\n",
        "    index = torch.randperm(batch_size).to(device)\n",
        "    mixed_x = lam * x + (1 - lam) * x[index, :]\n",
        "    y_a, y_b = y, y[index]\n",
        "    return mixed_x, y_a, y_b, lam\n",
        "\n",
        "# Vision Transformer (ViT)\n",
        "# ---------------------------\n",
        "class PatchEmbed(nn.Module):\n",
        "    \"\"\"Split image into patches and embed them.\"\"\"\n",
        "    def __init__(self, img_size=32, patch_size=4, in_chans=3, embed_dim=256):\n",
        "        super().__init__()\n",
        "        assert img_size % patch_size == 0, 'Image size must be divisible by patch size.'\n",
        "        self.img_size = img_size\n",
        "        self.patch_size = patch_size\n",
        "        self.grid_size = img_size // patch_size\n",
        "        num_patches = self.grid_size * self.grid_size\n",
        "        self.num_patches = num_patches\n",
        "\n",
        "        # Implement as a conv layer for speed: kernel=patch_size, stride=patch_size\n",
        "        self.proj = nn.Conv2d(in_chans, embed_dim, kernel_size=patch_size, stride=patch_size)\n",
        "        # After conv, flatten to (B, num_patches, embed_dim)\n",
        "\n",
        "    def forward(self, x):\n",
        "        # x: (B, C, H, W)\n",
        "        x = self.proj(x)  # (B, embed_dim, H/patch, W/patch)\n",
        "        x = x.flatten(2).transpose(1, 2)  # (B, num_patches, embed_dim)\n",
        "        return x\n",
        "\n",
        "\n",
        "class MLP(nn.Module):\n",
        "    def __init__(self, in_dim, hidden_dim, out_dim=None, dropout=0.):\n",
        "        out_dim = out_dim or in_dim\n",
        "        super().__init__()\n",
        "        self.fc1 = nn.Linear(in_dim, hidden_dim)\n",
        "        self.act = nn.GELU()\n",
        "        self.fc2 = nn.Linear(hidden_dim, out_dim)\n",
        "        self.drop = nn.Dropout(dropout)\n",
        "\n",
        "    def forward(self, x):\n",
        "        x = self.fc1(x)\n",
        "        x = self.act(x)\n",
        "        x = self.drop(x)\n",
        "        x = self.fc2(x)\n",
        "        x = self.drop(x)\n",
        "        return x\n",
        "\n",
        "\n",
        "class TransformerEncoderLayer(nn.Module):\n",
        "    def __init__(self, dim, num_heads=8, mlp_ratio=4.0, dropout=0., attn_dropout=0., norm_layer=nn.LayerNorm):\n",
        "        super().__init__()\n",
        "        self.norm1 = norm_layer(dim)\n",
        "        self.attn = nn.MultiheadAttention(embed_dim=dim, num_heads=num_heads, dropout=attn_dropout, batch_first=True)\n",
        "        self.drop_path = nn.Identity()  # placeholder for stochastic depth if desired\n",
        "        self.norm2 = norm_layer(dim)\n",
        "        mlp_hidden_dim = int(dim * mlp_ratio)\n",
        "        self.mlp = MLP(dim, mlp_hidden_dim, dropout=dropout)\n",
        "\n",
        "    def forward(self, x):\n",
        "        # x: (B, N, dim)\n",
        "        x_norm = self.norm1(x)\n",
        "        attn_out, _ = self.attn(x_norm, x_norm, x_norm, need_weights=False)  # (B, N, dim)\n",
        "        x = x + attn_out\n",
        "        x = x + self.mlp(self.norm2(x))\n",
        "        return x\n",
        "\n",
        "\n",
        "class ViT(nn.Module):\n",
        "    def __init__(\n",
        "        self,\n",
        "        img_size=32,\n",
        "        patch_size=4,\n",
        "        in_chans=3,\n",
        "        num_classes=10,\n",
        "        embed_dim=256,\n",
        "        depth=8,\n",
        "        num_heads=8,\n",
        "        mlp_ratio=2.0,\n",
        "        dropout=0.0,\n",
        "        emb_dropout=0.0,\n",
        "    ):\n",
        "        super().__init__()\n",
        "        self.patch_embed = PatchEmbed(img_size=img_size, patch_size=patch_size, in_chans=in_chans, embed_dim=embed_dim)\n",
        "        num_patches = self.patch_embed.num_patches\n",
        "\n",
        "        # CLS token\n",
        "        self.cls_token = nn.Parameter(torch.zeros(1, 1, embed_dim))\n",
        "        # Position embeddings (including cls token)\n",
        "        self.pos_embed = nn.Parameter(torch.zeros(1, num_patches + 1, embed_dim))\n",
        "        self.pos_drop = nn.Dropout(p=emb_dropout)\n",
        "\n",
        "        # Transformer encoder\n",
        "        self.blocks = nn.ModuleList([\n",
        "            TransformerEncoderLayer(\n",
        "                dim=embed_dim,\n",
        "                num_heads=num_heads,\n",
        "                mlp_ratio=mlp_ratio,\n",
        "                dropout=dropout,\n",
        "                attn_dropout=dropout,\n",
        "            )\n",
        "            for _ in range(depth)\n",
        "        ])\n",
        "        self.norm = nn.LayerNorm(embed_dim)\n",
        "\n",
        "        # Classifier head\n",
        "        self.head = nn.Linear(embed_dim, num_classes)\n",
        "\n",
        "        # Initialization\n",
        "        self._init_weights()\n",
        "\n",
        "    def _init_weights(self):\n",
        "        nn.init.trunc_normal_(self.pos_embed, std=0.02)\n",
        "        nn.init.trunc_normal_(self.cls_token, std=0.02)\n",
        "        # head init\n",
        "        nn.init.zeros_(self.head.weight)\n",
        "        nn.init.zeros_(self.head.bias)\n",
        "        # patch proj uses default kaiming\n",
        "\n",
        "    def forward(self, x):\n",
        "        # x: (B, C, H, W)\n",
        "        B = x.shape[0]\n",
        "        x = self.patch_embed(x)  # (B, num_patches, embed_dim)\n",
        "        cls_tokens = self.cls_token.expand(B, -1, -1)  # (B,1,embed_dim)\n",
        "        x = torch.cat((cls_tokens, x), dim=1)  # (B, num_patches+1, embed_dim)\n",
        "        x = x + self.pos_embed\n",
        "        x = self.pos_drop(x)\n",
        "\n",
        "        for blk in self.blocks:\n",
        "            x = blk(x)\n",
        "\n",
        "        x = self.norm(x)\n",
        "        cls = x[:, 0]  # (B, embed_dim)\n",
        "        logits = self.head(cls)\n",
        "        return logits\n",
        "\n",
        "\n",
        "# Training / Evaluation\n",
        "# ---------------------------\n",
        "def get_dataloaders(batch_size=128, num_workers=4, use_validation=True):\n",
        "    train_transform = transforms.Compose([\n",
        "        transforms.RandomCrop(32, padding=4),\n",
        "        transforms.RandomHorizontalFlip(),\n",
        "        transforms.AutoAugment(policy=transforms.AutoAugmentPolicy.IMAGENET),\n",
        "        transforms.ToTensor(),\n",
        "        transforms.Normalize((0.4914, 0.4822, 0.4465), (0.2470, 0.2435, 0.2616)),\n",
        "    ])\n",
        "    test_transform = transforms.Compose([\n",
        "        transforms.ToTensor(),\n",
        "        transforms.Normalize((0.4914, 0.4822, 0.4465), (0.2470, 0.2435, 0.2616)),\n",
        "    ])\n",
        "\n",
        "    train_set = CIFAR10(root='./data', train=True, download=True, transform=train_transform)\n",
        "    test_set = CIFAR10(root='./data', train=False, download=True, transform=test_transform)\n",
        "\n",
        "    if use_validation:\n",
        "        # Optionally split train to train/val\n",
        "        val_ratio = 0.05\n",
        "        n = len(train_set)\n",
        "        n_val = int(val_ratio * n)\n",
        "        n_train = n - n_val\n",
        "        train_set, val_set = torch.utils.data.random_split(train_set, [n_train, n_val])\n",
        "        val_set.dataset.transform = test_transform  # use test transform for validation\n",
        "        val_loader = DataLoader(val_set, batch_size=batch_size, shuffle=False, num_workers=num_workers, pin_memory=True)\n",
        "    else:\n",
        "        val_loader = None\n",
        "\n",
        "    train_loader = DataLoader(train_set, batch_size=batch_size, shuffle=True, num_workers=num_workers, pin_memory=True)\n",
        "    test_loader = DataLoader(test_set, batch_size=batch_size, shuffle=False, num_workers=num_workers, pin_memory=True)\n",
        "\n",
        "    return train_loader, val_loader, test_loader\n",
        "\n",
        "\n",
        "def cosine_scheduler_with_warmup(optimizer, warmup_epochs, max_epochs, base_lr, final_lr=0., last_epoch=-1):\n",
        "    # returns a LambdaLR scheduler\n",
        "    def lr_lambda(current_step):\n",
        "        current_epoch = current_step\n",
        "        if current_epoch < warmup_epochs:\n",
        "            return float(current_epoch) / float(max(1, warmup_epochs))\n",
        "        # cosine decay\n",
        "        progress = float(current_epoch - warmup_epochs) / float(max(1, max_epochs - warmup_epochs))\n",
        "        return max(0.0, 0.5 * (1.0 + math.cos(math.pi * progress))) * (1 - final_lr / base_lr) + final_lr/base_lr\n",
        "    return LambdaLR(optimizer, lr_lambda, last_epoch=last_epoch)\n",
        "\n",
        "\n",
        "def train_one_epoch(model, criterion, optimizer, data_loader, device, epoch, scaler=None, mixup_alpha=0.0):\n",
        "    model.train()\n",
        "    losses = []\n",
        "    top1 = 0.0\n",
        "    total = 0\n",
        "    pbar = tqdm(data_loader, desc=f\"Train E{epoch}\", leave=False)\n",
        "    for images, targets in pbar:\n",
        "        images = images.to(device, non_blocking=True)\n",
        "        targets = targets.to(device, non_blocking=True)\n",
        "\n",
        "        optimizer.zero_grad()\n",
        "        with autocast(enabled=(scaler is not None)):\n",
        "            outputs = model(images)\n",
        "            loss = criterion(outputs, targets)\n",
        "\n",
        "        if scaler is not None:\n",
        "            scaler.scale(loss).backward()\n",
        "            scaler.step(optimizer)\n",
        "            scaler.update()\n",
        "        else:\n",
        "            loss.backward()\n",
        "            optimizer.step()\n",
        "\n",
        "        acc1 = accuracy(outputs, targets, topk=(1,))[0]\n",
        "        losses.append(loss.item())\n",
        "        top1 += acc1 * images.size(0)\n",
        "        total += images.size(0)\n",
        "\n",
        "        pbar.set_postfix({'loss': f'{np.mean(losses):.4f}', 'acc1': f'{(top1/total):.2f}'})\n",
        "\n",
        "    return np.mean(losses), (top1 / total)\n",
        "\n",
        "\n",
        "def evaluate(model, criterion, data_loader, device):\n",
        "    model.eval()\n",
        "    losses = []\n",
        "    top1 = 0.0\n",
        "    total = 0\n",
        "    with torch.no_grad():\n",
        "        pbar = tqdm(data_loader, desc=\"Eval\", leave=False)\n",
        "        for images, targets in pbar:\n",
        "            images = images.to(device, non_blocking=True)\n",
        "            targets = targets.to(device, non_blocking=True)\n",
        "            outputs = model(images)\n",
        "            loss = criterion(outputs, targets)\n",
        "            acc1 = accuracy(outputs, targets, topk=(1,))[0]\n",
        "            losses.append(loss.item())\n",
        "            top1 += acc1 * images.size(0)\n",
        "            total += images.size(0)\n",
        "            pbar.set_postfix({'loss': f'{np.mean(losses):.4f}', 'acc1': f'{(top1/total):.2f}'})\n",
        "    return np.mean(losses), (top1 / total)\n",
        "\n",
        "\n",
        "def main(args):\n",
        "    set_seed(args.seed)\n",
        "    device = 'cuda' if torch.cuda.is_available() else 'cpu'\n",
        "    print(f'Using device: {device}')\n",
        "\n",
        "    train_loader, val_loader, test_loader = get_dataloaders(batch_size=args.batch_size, num_workers=args.num_workers)\n",
        "\n",
        "    model = ViT(\n",
        "        img_size=32,\n",
        "        patch_size=args.patch_size,\n",
        "        in_chans=3,\n",
        "        num_classes=10,\n",
        "        embed_dim=args.embed_dim,\n",
        "        depth=args.depth,\n",
        "        num_heads=args.num_heads,\n",
        "        mlp_ratio=args.mlp_ratio,\n",
        "        dropout=args.dropout,\n",
        "        emb_dropout=args.emb_dropout,\n",
        "    )\n",
        "    model.to(device)\n",
        "\n",
        "    criterion = nn.CrossEntropyLoss()\n",
        "    optimizer = AdamW(model.parameters(), lr=args.lr, weight_decay=args.weight_decay)\n",
        "\n",
        "    scheduler = cosine_scheduler_with_warmup(\n",
        "        optimizer,\n",
        "        warmup_epochs=args.warmup_epochs,\n",
        "        max_epochs=args.epochs,\n",
        "        base_lr=args.lr,\n",
        "        final_lr=args.min_lr\n",
        "    )\n",
        "\n",
        "    scaler = GradScaler() if args.use_amp and device == 'cuda' else None\n",
        "\n",
        "    best_val_acc = 0.0\n",
        "    best_test_acc = 0.0\n",
        "    history = {'train_loss': [], 'train_acc': [], 'val_loss': [], 'val_acc': []}\n",
        "\n",
        "    for epoch in range(1, args.epochs + 1):\n",
        "        # train\n",
        "        train_loss, train_acc = train_one_epoch(model, criterion, optimizer, train_loader, device, epoch, scaler=scaler)\n",
        "        history['train_loss'].append(train_loss)\n",
        "        history['train_acc'].append(train_acc)\n",
        "\n",
        "        # step scheduler per-epoch (our lambda scheduler expects epoch steps)\n",
        "        scheduler.step()\n",
        "\n",
        "        # eval on validation or test\n",
        "        if val_loader is not None:\n",
        "            val_loss, val_acc = evaluate(model, criterion, val_loader, device)\n",
        "            history['val_loss'].append(val_loss)\n",
        "            history['val_acc'].append(val_acc)\n",
        "            is_best = val_acc > best_val_acc\n",
        "            if is_best:\n",
        "                best_val_acc = val_acc\n",
        "                # evaluate on test set as well for reporting\n",
        "                test_loss, test_acc = evaluate(model, criterion, test_loader, device)\n",
        "                best_test_acc = test_acc\n",
        "                # save best\n",
        "                torch.save({'epoch': epoch, 'model_state': model.state_dict(), 'optimizer_state': optimizer.state_dict(),\n",
        "                            'val_acc': val_acc, 'test_acc': test_acc}, args.checkpoint_path)\n",
        "                print(f\"New best val acc: {val_acc:.2f}%, test acc: {best_test_acc:.2f}%, saved checkpoint.\")\n",
        "        else:\n",
        "            # No validation split: test every epoch\n",
        "            test_loss, test_acc = evaluate(model, criterion, test_loader, device)\n",
        "            if test_acc > best_test_acc:\n",
        "                best_test_acc = test_acc\n",
        "                torch.save({'epoch': epoch, 'model_state': model.state_dict(), 'optimizer_state': optimizer.state_dict(),\n",
        "                            'test_acc': test_acc}, args.checkpoint_path)\n",
        "                print(f\"New best test acc: {test_acc:.2f}%, saved checkpoint.\")\n",
        "\n",
        "        print(f\"Epoch {epoch}: train_acc={train_acc:.2f}%  val_acc={best_val_acc:.2f}%  best_test_acc={best_test_acc:.2f}%\")\n",
        "\n",
        "    # Final evaluation\n",
        "    print(\"Training complete. Loading best checkpoint and evaluating on test set...\")\n",
        "    if os.path.exists(args.checkpoint_path):\n",
        "        ckpt = torch.load(args.checkpoint_path, map_location=device)\n",
        "        model.load_state_dict(ckpt['model_state'])\n",
        "        test_loss, test_acc = evaluate(model, criterion, test_loader, device)\n",
        "        print(f\"Best checkpoint test acc: {test_acc:.2f}%\")\n",
        "    else:\n",
        "        test_loss, test_acc = evaluate(model, criterion, test_loader, device)\n",
        "        print(f\"No checkpoint saved. Final test acc: {test_acc:.2f}%\")\n",
        "\n",
        "    print(\"Done.\")\n",
        "\n",
        "\n",
        "if __name__ == '__main__':\n",
        "    import sys\n",
        "    # Explicitly set sys.argv to a list containing only the script name\n",
        "    sys.argv = [sys.argv[0]]\n",
        "\n",
        "    parser = argparse.ArgumentParser(description='ViT CIFAR-10 training')\n",
        "    parser.add_argument('--epochs', default=150, type=int)\n",
        "    parser.add_argument('--batch-size', default=256, type=int)\n",
        "    parser.add_argument('--lr', default=3e-4, type=float)\n",
        "    parser.add_argument('--min-lr', default=1e-6, type=float)\n",
        "    parser.add_argument('--weight-decay', default=0.05, type=float)\n",
        "    parser.add_argument('--momentum', default=0.9, type=float)\n",
        "    parser.add_argument('--patch-size', default=4, type=int)\n",
        "    parser.add_argument('--embed-dim', dest='embed_dim', default=256, type=int)\n",
        "    parser.add_argument('--depth', default=8, type=int)\n",
        "    parser.add_argument('--num-heads', dest='num_heads', default=8, type=int)\n",
        "    parser.add_argument('--mlp-ratio', dest='mlp_ratio', default=2.0, type=float)\n",
        "    parser.add_argument('--dropout', default=0.0, type=float)\n",
        "    parser.add_argument('--emb-dropout', default=0.0, type=float)\n",
        "    parser.add_argument('--warmup-epochs', default=10, type=int)\n",
        "    parser.add_argument('--use-amp', action='store_true', help='Use mixed precision')\n",
        "    parser.add_argument('--seed', default=42, type=int)\n",
        "    parser.add_argument('--num-workers', default=4, type=int)\n",
        "    parser.add_argument('--checkpoint-path', default='vit_cifar10_checkpoint.pth', type=str)\n",
        "    args = parser.parse_args([]) # Pass an empty list to parse_args()\n",
        "    main(args)"
      ],
      "metadata": {
        "colab": {
          "base_uri": "https://localhost:8080/"
        },
        "id": "oF9y040Zw-4j",
        "outputId": "38097de2-7e98-4bb1-be81-af7a23d88107"
      },
      "execution_count": 4,
      "outputs": [
        {
          "output_type": "stream",
          "name": "stdout",
          "text": [
            "Using device: cuda\n"
          ]
        },
        {
          "output_type": "stream",
          "name": "stderr",
          "text": [
            "/usr/local/lib/python3.12/dist-packages/torch/utils/data/dataloader.py:627: UserWarning: This DataLoader will create 4 worker processes in total. Our suggested max number of worker in current system is 2, which is smaller than what this DataLoader is going to create. Please be aware that excessive worker creation might get DataLoader running slow or even freeze, lower the worker number to avoid potential slowness/freeze if necessary.\n",
            "  warnings.warn(\n",
            "Train E1:   0%|          | 0/186 [00:00<?, ?it/s]/tmp/ipython-input-596968851.py:250: FutureWarning: `torch.cuda.amp.autocast(args...)` is deprecated. Please use `torch.amp.autocast('cuda', args...)` instead.\n",
            "  with autocast(enabled=(scaler is not None)):\n"
          ]
        },
        {
          "output_type": "stream",
          "name": "stdout",
          "text": [
            "New best val acc: 10.12%, test acc: 10.00%, saved checkpoint.\n",
            "Epoch 1: train_acc=9.99%  val_acc=10.12%  best_test_acc=10.00%\n"
          ]
        },
        {
          "output_type": "stream",
          "name": "stderr",
          "text": []
        },
        {
          "output_type": "stream",
          "name": "stdout",
          "text": [
            "New best val acc: 32.44%, test acc: 33.05%, saved checkpoint.\n",
            "Epoch 2: train_acc=26.26%  val_acc=32.44%  best_test_acc=33.05%\n"
          ]
        },
        {
          "output_type": "stream",
          "name": "stderr",
          "text": []
        },
        {
          "output_type": "stream",
          "name": "stdout",
          "text": [
            "New best val acc: 43.36%, test acc: 42.71%, saved checkpoint.\n",
            "Epoch 3: train_acc=37.10%  val_acc=43.36%  best_test_acc=42.71%\n"
          ]
        },
        {
          "output_type": "stream",
          "name": "stderr",
          "text": []
        },
        {
          "output_type": "stream",
          "name": "stdout",
          "text": [
            "New best val acc: 48.40%, test acc: 49.42%, saved checkpoint.\n",
            "Epoch 4: train_acc=45.89%  val_acc=48.40%  best_test_acc=49.42%\n"
          ]
        },
        {
          "output_type": "stream",
          "name": "stderr",
          "text": []
        },
        {
          "output_type": "stream",
          "name": "stdout",
          "text": [
            "New best val acc: 54.76%, test acc: 54.16%, saved checkpoint.\n",
            "Epoch 5: train_acc=52.19%  val_acc=54.76%  best_test_acc=54.16%\n"
          ]
        },
        {
          "output_type": "stream",
          "name": "stderr",
          "text": []
        },
        {
          "output_type": "stream",
          "name": "stdout",
          "text": [
            "New best val acc: 59.20%, test acc: 58.57%, saved checkpoint.\n",
            "Epoch 6: train_acc=57.94%  val_acc=59.20%  best_test_acc=58.57%\n"
          ]
        },
        {
          "output_type": "stream",
          "name": "stderr",
          "text": []
        },
        {
          "output_type": "stream",
          "name": "stdout",
          "text": [
            "New best val acc: 60.28%, test acc: 59.89%, saved checkpoint.\n",
            "Epoch 7: train_acc=61.69%  val_acc=60.28%  best_test_acc=59.89%\n"
          ]
        },
        {
          "output_type": "stream",
          "name": "stderr",
          "text": []
        },
        {
          "output_type": "stream",
          "name": "stdout",
          "text": [
            "New best val acc: 63.36%, test acc: 62.56%, saved checkpoint.\n",
            "Epoch 8: train_acc=65.64%  val_acc=63.36%  best_test_acc=62.56%\n"
          ]
        },
        {
          "output_type": "stream",
          "name": "stderr",
          "text": []
        },
        {
          "output_type": "stream",
          "name": "stdout",
          "text": [
            "New best val acc: 64.00%, test acc: 63.15%, saved checkpoint.\n",
            "Epoch 9: train_acc=68.50%  val_acc=64.00%  best_test_acc=63.15%\n"
          ]
        },
        {
          "output_type": "stream",
          "name": "stderr",
          "text": []
        },
        {
          "output_type": "stream",
          "name": "stdout",
          "text": [
            "New best val acc: 66.40%, test acc: 65.17%, saved checkpoint.\n",
            "Epoch 10: train_acc=71.27%  val_acc=66.40%  best_test_acc=65.17%\n"
          ]
        },
        {
          "output_type": "stream",
          "name": "stderr",
          "text": []
        },
        {
          "output_type": "stream",
          "name": "stdout",
          "text": [
            "Epoch 11: train_acc=73.75%  val_acc=66.40%  best_test_acc=65.17%\n"
          ]
        },
        {
          "output_type": "stream",
          "name": "stderr",
          "text": []
        },
        {
          "output_type": "stream",
          "name": "stdout",
          "text": [
            "New best val acc: 66.60%, test acc: 65.38%, saved checkpoint.\n",
            "Epoch 12: train_acc=77.45%  val_acc=66.60%  best_test_acc=65.38%\n"
          ]
        },
        {
          "output_type": "stream",
          "name": "stderr",
          "text": []
        },
        {
          "output_type": "stream",
          "name": "stdout",
          "text": [
            "New best val acc: 67.48%, test acc: 65.65%, saved checkpoint.\n",
            "Epoch 13: train_acc=80.30%  val_acc=67.48%  best_test_acc=65.65%\n"
          ]
        },
        {
          "output_type": "stream",
          "name": "stderr",
          "text": []
        },
        {
          "output_type": "stream",
          "name": "stdout",
          "text": [
            "Epoch 14: train_acc=83.57%  val_acc=67.48%  best_test_acc=65.65%\n"
          ]
        },
        {
          "output_type": "stream",
          "name": "stderr",
          "text": []
        },
        {
          "output_type": "stream",
          "name": "stdout",
          "text": [
            "Epoch 15: train_acc=85.26%  val_acc=67.48%  best_test_acc=65.65%\n"
          ]
        },
        {
          "output_type": "stream",
          "name": "stderr",
          "text": []
        },
        {
          "output_type": "stream",
          "name": "stdout",
          "text": [
            "Epoch 16: train_acc=88.13%  val_acc=67.48%  best_test_acc=65.65%\n"
          ]
        },
        {
          "output_type": "stream",
          "name": "stderr",
          "text": []
        },
        {
          "output_type": "stream",
          "name": "stdout",
          "text": [
            "Epoch 17: train_acc=89.46%  val_acc=67.48%  best_test_acc=65.65%\n"
          ]
        },
        {
          "output_type": "stream",
          "name": "stderr",
          "text": []
        },
        {
          "output_type": "stream",
          "name": "stdout",
          "text": [
            "Epoch 18: train_acc=91.35%  val_acc=67.48%  best_test_acc=65.65%\n"
          ]
        },
        {
          "output_type": "stream",
          "name": "stderr",
          "text": []
        },
        {
          "output_type": "stream",
          "name": "stdout",
          "text": [
            "Epoch 19: train_acc=92.56%  val_acc=67.48%  best_test_acc=65.65%\n"
          ]
        },
        {
          "output_type": "stream",
          "name": "stderr",
          "text": []
        },
        {
          "output_type": "stream",
          "name": "stdout",
          "text": [
            "Epoch 20: train_acc=93.57%  val_acc=67.48%  best_test_acc=65.65%\n"
          ]
        },
        {
          "output_type": "stream",
          "name": "stderr",
          "text": []
        },
        {
          "output_type": "stream",
          "name": "stdout",
          "text": [
            "Epoch 21: train_acc=94.31%  val_acc=67.48%  best_test_acc=65.65%\n"
          ]
        },
        {
          "output_type": "stream",
          "name": "stderr",
          "text": []
        },
        {
          "output_type": "stream",
          "name": "stdout",
          "text": [
            "Epoch 22: train_acc=95.12%  val_acc=67.48%  best_test_acc=65.65%\n"
          ]
        },
        {
          "output_type": "stream",
          "name": "stderr",
          "text": []
        },
        {
          "output_type": "stream",
          "name": "stdout",
          "text": [
            "New best val acc: 67.84%, test acc: 66.04%, saved checkpoint.\n",
            "Epoch 23: train_acc=95.77%  val_acc=67.84%  best_test_acc=66.04%\n"
          ]
        },
        {
          "output_type": "stream",
          "name": "stderr",
          "text": []
        },
        {
          "output_type": "stream",
          "name": "stdout",
          "text": [
            "Epoch 24: train_acc=96.00%  val_acc=67.84%  best_test_acc=66.04%\n"
          ]
        },
        {
          "output_type": "stream",
          "name": "stderr",
          "text": []
        },
        {
          "output_type": "stream",
          "name": "stdout",
          "text": [
            "New best val acc: 67.88%, test acc: 65.86%, saved checkpoint.\n",
            "Epoch 25: train_acc=96.28%  val_acc=67.88%  best_test_acc=65.86%\n"
          ]
        },
        {
          "output_type": "stream",
          "name": "stderr",
          "text": []
        },
        {
          "output_type": "stream",
          "name": "stdout",
          "text": [
            "Epoch 26: train_acc=96.81%  val_acc=67.88%  best_test_acc=65.86%\n"
          ]
        },
        {
          "output_type": "stream",
          "name": "stderr",
          "text": []
        },
        {
          "output_type": "stream",
          "name": "stdout",
          "text": [
            "Epoch 27: train_acc=96.90%  val_acc=67.88%  best_test_acc=65.86%\n"
          ]
        },
        {
          "output_type": "stream",
          "name": "stderr",
          "text": []
        },
        {
          "output_type": "stream",
          "name": "stdout",
          "text": [
            "Epoch 28: train_acc=97.20%  val_acc=67.88%  best_test_acc=65.86%\n"
          ]
        },
        {
          "output_type": "stream",
          "name": "stderr",
          "text": []
        },
        {
          "output_type": "stream",
          "name": "stdout",
          "text": [
            "Epoch 29: train_acc=97.06%  val_acc=67.88%  best_test_acc=65.86%\n"
          ]
        },
        {
          "output_type": "stream",
          "name": "stderr",
          "text": []
        },
        {
          "output_type": "stream",
          "name": "stdout",
          "text": [
            "Epoch 30: train_acc=97.32%  val_acc=67.88%  best_test_acc=65.86%\n"
          ]
        },
        {
          "output_type": "stream",
          "name": "stderr",
          "text": []
        },
        {
          "output_type": "stream",
          "name": "stdout",
          "text": [
            "Epoch 31: train_acc=97.71%  val_acc=67.88%  best_test_acc=65.86%\n"
          ]
        },
        {
          "output_type": "stream",
          "name": "stderr",
          "text": []
        },
        {
          "output_type": "stream",
          "name": "stdout",
          "text": [
            "Epoch 32: train_acc=97.56%  val_acc=67.88%  best_test_acc=65.86%\n"
          ]
        },
        {
          "output_type": "stream",
          "name": "stderr",
          "text": []
        },
        {
          "output_type": "stream",
          "name": "stdout",
          "text": [
            "Epoch 33: train_acc=97.63%  val_acc=67.88%  best_test_acc=65.86%\n"
          ]
        },
        {
          "output_type": "stream",
          "name": "stderr",
          "text": []
        },
        {
          "output_type": "stream",
          "name": "stdout",
          "text": [
            "Epoch 34: train_acc=97.69%  val_acc=67.88%  best_test_acc=65.86%\n"
          ]
        },
        {
          "output_type": "stream",
          "name": "stderr",
          "text": []
        },
        {
          "output_type": "stream",
          "name": "stdout",
          "text": [
            "New best val acc: 68.72%, test acc: 67.35%, saved checkpoint.\n",
            "Epoch 35: train_acc=98.02%  val_acc=68.72%  best_test_acc=67.35%\n"
          ]
        },
        {
          "output_type": "stream",
          "name": "stderr",
          "text": []
        },
        {
          "output_type": "stream",
          "name": "stdout",
          "text": [
            "Epoch 36: train_acc=98.15%  val_acc=68.72%  best_test_acc=67.35%\n"
          ]
        },
        {
          "output_type": "stream",
          "name": "stderr",
          "text": []
        },
        {
          "output_type": "stream",
          "name": "stdout",
          "text": [
            "Epoch 37: train_acc=97.91%  val_acc=68.72%  best_test_acc=67.35%\n"
          ]
        },
        {
          "output_type": "stream",
          "name": "stderr",
          "text": []
        },
        {
          "output_type": "stream",
          "name": "stdout",
          "text": [
            "Epoch 38: train_acc=97.88%  val_acc=68.72%  best_test_acc=67.35%\n"
          ]
        },
        {
          "output_type": "stream",
          "name": "stderr",
          "text": []
        },
        {
          "output_type": "stream",
          "name": "stdout",
          "text": [
            "Epoch 39: train_acc=98.29%  val_acc=68.72%  best_test_acc=67.35%\n"
          ]
        },
        {
          "output_type": "stream",
          "name": "stderr",
          "text": []
        },
        {
          "output_type": "stream",
          "name": "stdout",
          "text": [
            "Epoch 40: train_acc=98.29%  val_acc=68.72%  best_test_acc=67.35%\n"
          ]
        },
        {
          "output_type": "stream",
          "name": "stderr",
          "text": []
        },
        {
          "output_type": "stream",
          "name": "stdout",
          "text": [
            "Epoch 41: train_acc=98.52%  val_acc=68.72%  best_test_acc=67.35%\n"
          ]
        },
        {
          "output_type": "stream",
          "name": "stderr",
          "text": []
        },
        {
          "output_type": "stream",
          "name": "stdout",
          "text": [
            "Epoch 42: train_acc=98.20%  val_acc=68.72%  best_test_acc=67.35%\n"
          ]
        },
        {
          "output_type": "stream",
          "name": "stderr",
          "text": []
        },
        {
          "output_type": "stream",
          "name": "stdout",
          "text": [
            "Epoch 43: train_acc=98.29%  val_acc=68.72%  best_test_acc=67.35%\n"
          ]
        },
        {
          "output_type": "stream",
          "name": "stderr",
          "text": []
        },
        {
          "output_type": "stream",
          "name": "stdout",
          "text": [
            "Epoch 44: train_acc=98.57%  val_acc=68.72%  best_test_acc=67.35%\n"
          ]
        },
        {
          "output_type": "stream",
          "name": "stderr",
          "text": []
        },
        {
          "output_type": "stream",
          "name": "stdout",
          "text": [
            "Epoch 45: train_acc=98.46%  val_acc=68.72%  best_test_acc=67.35%\n"
          ]
        },
        {
          "output_type": "stream",
          "name": "stderr",
          "text": []
        },
        {
          "output_type": "stream",
          "name": "stdout",
          "text": [
            "Epoch 46: train_acc=98.30%  val_acc=68.72%  best_test_acc=67.35%\n"
          ]
        },
        {
          "output_type": "stream",
          "name": "stderr",
          "text": []
        },
        {
          "output_type": "stream",
          "name": "stdout",
          "text": [
            "Epoch 47: train_acc=98.83%  val_acc=68.72%  best_test_acc=67.35%\n"
          ]
        },
        {
          "output_type": "stream",
          "name": "stderr",
          "text": []
        },
        {
          "output_type": "stream",
          "name": "stdout",
          "text": [
            "Epoch 48: train_acc=98.80%  val_acc=68.72%  best_test_acc=67.35%\n"
          ]
        },
        {
          "output_type": "stream",
          "name": "stderr",
          "text": []
        },
        {
          "output_type": "stream",
          "name": "stdout",
          "text": [
            "Epoch 49: train_acc=98.54%  val_acc=68.72%  best_test_acc=67.35%\n"
          ]
        },
        {
          "output_type": "stream",
          "name": "stderr",
          "text": []
        },
        {
          "output_type": "stream",
          "name": "stdout",
          "text": [
            "New best val acc: 68.92%, test acc: 66.55%, saved checkpoint.\n",
            "Epoch 50: train_acc=98.64%  val_acc=68.92%  best_test_acc=66.55%\n"
          ]
        },
        {
          "output_type": "stream",
          "name": "stderr",
          "text": []
        },
        {
          "output_type": "stream",
          "name": "stdout",
          "text": [
            "Epoch 51: train_acc=98.52%  val_acc=68.92%  best_test_acc=66.55%\n"
          ]
        },
        {
          "output_type": "stream",
          "name": "stderr",
          "text": []
        },
        {
          "output_type": "stream",
          "name": "stdout",
          "text": [
            "Epoch 52: train_acc=98.81%  val_acc=68.92%  best_test_acc=66.55%\n"
          ]
        },
        {
          "output_type": "stream",
          "name": "stderr",
          "text": []
        },
        {
          "output_type": "stream",
          "name": "stdout",
          "text": [
            "Epoch 53: train_acc=98.99%  val_acc=68.92%  best_test_acc=66.55%\n"
          ]
        },
        {
          "output_type": "stream",
          "name": "stderr",
          "text": []
        },
        {
          "output_type": "stream",
          "name": "stdout",
          "text": [
            "Epoch 54: train_acc=98.68%  val_acc=68.92%  best_test_acc=66.55%\n"
          ]
        },
        {
          "output_type": "stream",
          "name": "stderr",
          "text": []
        },
        {
          "output_type": "stream",
          "name": "stdout",
          "text": [
            "Epoch 55: train_acc=98.99%  val_acc=68.92%  best_test_acc=66.55%\n"
          ]
        },
        {
          "output_type": "stream",
          "name": "stderr",
          "text": []
        },
        {
          "output_type": "stream",
          "name": "stdout",
          "text": [
            "Epoch 56: train_acc=99.26%  val_acc=68.92%  best_test_acc=66.55%\n"
          ]
        },
        {
          "output_type": "stream",
          "name": "stderr",
          "text": []
        },
        {
          "output_type": "stream",
          "name": "stdout",
          "text": [
            "Epoch 57: train_acc=99.20%  val_acc=68.92%  best_test_acc=66.55%\n"
          ]
        },
        {
          "output_type": "stream",
          "name": "stderr",
          "text": []
        },
        {
          "output_type": "stream",
          "name": "stdout",
          "text": [
            "Epoch 58: train_acc=98.86%  val_acc=68.92%  best_test_acc=66.55%\n"
          ]
        },
        {
          "output_type": "stream",
          "name": "stderr",
          "text": []
        },
        {
          "output_type": "stream",
          "name": "stdout",
          "text": [
            "New best val acc: 69.36%, test acc: 67.52%, saved checkpoint.\n",
            "Epoch 59: train_acc=99.21%  val_acc=69.36%  best_test_acc=67.52%\n"
          ]
        },
        {
          "output_type": "stream",
          "name": "stderr",
          "text": []
        },
        {
          "output_type": "stream",
          "name": "stdout",
          "text": [
            "Epoch 60: train_acc=99.13%  val_acc=69.36%  best_test_acc=67.52%\n"
          ]
        },
        {
          "output_type": "stream",
          "name": "stderr",
          "text": []
        },
        {
          "output_type": "stream",
          "name": "stdout",
          "text": [
            "Epoch 61: train_acc=98.96%  val_acc=69.36%  best_test_acc=67.52%\n"
          ]
        },
        {
          "output_type": "stream",
          "name": "stderr",
          "text": []
        },
        {
          "output_type": "stream",
          "name": "stdout",
          "text": [
            "Epoch 62: train_acc=99.35%  val_acc=69.36%  best_test_acc=67.52%\n"
          ]
        },
        {
          "output_type": "stream",
          "name": "stderr",
          "text": []
        },
        {
          "output_type": "stream",
          "name": "stdout",
          "text": [
            "Epoch 63: train_acc=99.24%  val_acc=69.36%  best_test_acc=67.52%\n"
          ]
        },
        {
          "output_type": "stream",
          "name": "stderr",
          "text": []
        },
        {
          "output_type": "stream",
          "name": "stdout",
          "text": [
            "Epoch 64: train_acc=99.26%  val_acc=69.36%  best_test_acc=67.52%\n"
          ]
        },
        {
          "output_type": "stream",
          "name": "stderr",
          "text": []
        },
        {
          "output_type": "stream",
          "name": "stdout",
          "text": [
            "Epoch 65: train_acc=99.00%  val_acc=69.36%  best_test_acc=67.52%\n"
          ]
        },
        {
          "output_type": "stream",
          "name": "stderr",
          "text": []
        },
        {
          "output_type": "stream",
          "name": "stdout",
          "text": [
            "Epoch 66: train_acc=99.46%  val_acc=69.36%  best_test_acc=67.52%\n"
          ]
        },
        {
          "output_type": "stream",
          "name": "stderr",
          "text": []
        },
        {
          "output_type": "stream",
          "name": "stdout",
          "text": [
            "Epoch 67: train_acc=99.40%  val_acc=69.36%  best_test_acc=67.52%\n"
          ]
        },
        {
          "output_type": "stream",
          "name": "stderr",
          "text": []
        },
        {
          "output_type": "stream",
          "name": "stdout",
          "text": [
            "Epoch 68: train_acc=99.16%  val_acc=69.36%  best_test_acc=67.52%\n"
          ]
        },
        {
          "output_type": "stream",
          "name": "stderr",
          "text": []
        },
        {
          "output_type": "stream",
          "name": "stdout",
          "text": [
            "Epoch 69: train_acc=99.53%  val_acc=69.36%  best_test_acc=67.52%\n"
          ]
        },
        {
          "output_type": "stream",
          "name": "stderr",
          "text": []
        },
        {
          "output_type": "stream",
          "name": "stdout",
          "text": [
            "Epoch 70: train_acc=99.45%  val_acc=69.36%  best_test_acc=67.52%\n"
          ]
        },
        {
          "output_type": "stream",
          "name": "stderr",
          "text": []
        },
        {
          "output_type": "stream",
          "name": "stdout",
          "text": [
            "Epoch 71: train_acc=99.36%  val_acc=69.36%  best_test_acc=67.52%\n"
          ]
        },
        {
          "output_type": "stream",
          "name": "stderr",
          "text": []
        },
        {
          "output_type": "stream",
          "name": "stdout",
          "text": [
            "Epoch 72: train_acc=99.40%  val_acc=69.36%  best_test_acc=67.52%\n"
          ]
        },
        {
          "output_type": "stream",
          "name": "stderr",
          "text": []
        },
        {
          "output_type": "stream",
          "name": "stdout",
          "text": [
            "Epoch 73: train_acc=99.53%  val_acc=69.36%  best_test_acc=67.52%\n"
          ]
        },
        {
          "output_type": "stream",
          "name": "stderr",
          "text": []
        },
        {
          "output_type": "stream",
          "name": "stdout",
          "text": [
            "Epoch 74: train_acc=99.55%  val_acc=69.36%  best_test_acc=67.52%\n"
          ]
        },
        {
          "output_type": "stream",
          "name": "stderr",
          "text": []
        },
        {
          "output_type": "stream",
          "name": "stdout",
          "text": [
            "Epoch 75: train_acc=99.32%  val_acc=69.36%  best_test_acc=67.52%\n"
          ]
        },
        {
          "output_type": "stream",
          "name": "stderr",
          "text": []
        },
        {
          "output_type": "stream",
          "name": "stdout",
          "text": [
            "Epoch 76: train_acc=99.64%  val_acc=69.36%  best_test_acc=67.52%\n"
          ]
        },
        {
          "output_type": "stream",
          "name": "stderr",
          "text": []
        },
        {
          "output_type": "stream",
          "name": "stdout",
          "text": [
            "Epoch 77: train_acc=99.79%  val_acc=69.36%  best_test_acc=67.52%\n"
          ]
        },
        {
          "output_type": "stream",
          "name": "stderr",
          "text": []
        },
        {
          "output_type": "stream",
          "name": "stdout",
          "text": [
            "Epoch 78: train_acc=99.50%  val_acc=69.36%  best_test_acc=67.52%\n"
          ]
        },
        {
          "output_type": "stream",
          "name": "stderr",
          "text": []
        },
        {
          "output_type": "stream",
          "name": "stdout",
          "text": [
            "Epoch 79: train_acc=99.48%  val_acc=69.36%  best_test_acc=67.52%\n"
          ]
        },
        {
          "output_type": "stream",
          "name": "stderr",
          "text": []
        },
        {
          "output_type": "stream",
          "name": "stdout",
          "text": [
            "Epoch 80: train_acc=99.53%  val_acc=69.36%  best_test_acc=67.52%\n"
          ]
        },
        {
          "output_type": "stream",
          "name": "stderr",
          "text": []
        },
        {
          "output_type": "stream",
          "name": "stdout",
          "text": [
            "Epoch 81: train_acc=99.63%  val_acc=69.36%  best_test_acc=67.52%\n"
          ]
        },
        {
          "output_type": "stream",
          "name": "stderr",
          "text": []
        },
        {
          "output_type": "stream",
          "name": "stdout",
          "text": [
            "Epoch 82: train_acc=99.78%  val_acc=69.36%  best_test_acc=67.52%\n"
          ]
        },
        {
          "output_type": "stream",
          "name": "stderr",
          "text": []
        },
        {
          "output_type": "stream",
          "name": "stdout",
          "text": [
            "Epoch 83: train_acc=99.73%  val_acc=69.36%  best_test_acc=67.52%\n"
          ]
        },
        {
          "output_type": "stream",
          "name": "stderr",
          "text": []
        },
        {
          "output_type": "stream",
          "name": "stdout",
          "text": [
            "Epoch 84: train_acc=99.67%  val_acc=69.36%  best_test_acc=67.52%\n"
          ]
        },
        {
          "output_type": "stream",
          "name": "stderr",
          "text": []
        },
        {
          "output_type": "stream",
          "name": "stdout",
          "text": [
            "Epoch 85: train_acc=99.83%  val_acc=69.36%  best_test_acc=67.52%\n"
          ]
        },
        {
          "output_type": "stream",
          "name": "stderr",
          "text": []
        },
        {
          "output_type": "stream",
          "name": "stdout",
          "text": [
            "Epoch 86: train_acc=99.76%  val_acc=69.36%  best_test_acc=67.52%\n"
          ]
        },
        {
          "output_type": "stream",
          "name": "stderr",
          "text": []
        },
        {
          "output_type": "stream",
          "name": "stdout",
          "text": [
            "Epoch 87: train_acc=99.62%  val_acc=69.36%  best_test_acc=67.52%\n"
          ]
        },
        {
          "output_type": "stream",
          "name": "stderr",
          "text": []
        },
        {
          "output_type": "stream",
          "name": "stdout",
          "text": [
            "Epoch 88: train_acc=99.84%  val_acc=69.36%  best_test_acc=67.52%\n"
          ]
        },
        {
          "output_type": "stream",
          "name": "stderr",
          "text": []
        },
        {
          "output_type": "stream",
          "name": "stdout",
          "text": [
            "Epoch 89: train_acc=99.72%  val_acc=69.36%  best_test_acc=67.52%\n"
          ]
        },
        {
          "output_type": "stream",
          "name": "stderr",
          "text": []
        },
        {
          "output_type": "stream",
          "name": "stdout",
          "text": [
            "Epoch 90: train_acc=99.76%  val_acc=69.36%  best_test_acc=67.52%\n"
          ]
        },
        {
          "output_type": "stream",
          "name": "stderr",
          "text": []
        },
        {
          "output_type": "stream",
          "name": "stdout",
          "text": [
            "Epoch 91: train_acc=99.84%  val_acc=69.36%  best_test_acc=67.52%\n"
          ]
        },
        {
          "output_type": "stream",
          "name": "stderr",
          "text": []
        },
        {
          "output_type": "stream",
          "name": "stdout",
          "text": [
            "Epoch 92: train_acc=99.77%  val_acc=69.36%  best_test_acc=67.52%\n"
          ]
        },
        {
          "output_type": "stream",
          "name": "stderr",
          "text": []
        },
        {
          "output_type": "stream",
          "name": "stdout",
          "text": [
            "Epoch 93: train_acc=99.88%  val_acc=69.36%  best_test_acc=67.52%\n"
          ]
        },
        {
          "output_type": "stream",
          "name": "stderr",
          "text": []
        },
        {
          "output_type": "stream",
          "name": "stdout",
          "text": [
            "Epoch 94: train_acc=99.99%  val_acc=69.36%  best_test_acc=67.52%\n"
          ]
        },
        {
          "output_type": "stream",
          "name": "stderr",
          "text": []
        },
        {
          "output_type": "stream",
          "name": "stdout",
          "text": [
            "Epoch 95: train_acc=100.00%  val_acc=69.36%  best_test_acc=67.52%\n"
          ]
        },
        {
          "output_type": "stream",
          "name": "stderr",
          "text": []
        },
        {
          "output_type": "stream",
          "name": "stdout",
          "text": [
            "Epoch 96: train_acc=100.00%  val_acc=69.36%  best_test_acc=67.52%\n"
          ]
        },
        {
          "output_type": "stream",
          "name": "stderr",
          "text": []
        },
        {
          "output_type": "stream",
          "name": "stdout",
          "text": [
            "Epoch 97: train_acc=100.00%  val_acc=69.36%  best_test_acc=67.52%\n"
          ]
        },
        {
          "output_type": "stream",
          "name": "stderr",
          "text": []
        },
        {
          "output_type": "stream",
          "name": "stdout",
          "text": [
            "Epoch 98: train_acc=100.00%  val_acc=69.36%  best_test_acc=67.52%\n"
          ]
        },
        {
          "output_type": "stream",
          "name": "stderr",
          "text": []
        },
        {
          "output_type": "stream",
          "name": "stdout",
          "text": [
            "New best val acc: 69.40%, test acc: 68.56%, saved checkpoint.\n",
            "Epoch 99: train_acc=100.00%  val_acc=69.40%  best_test_acc=68.56%\n"
          ]
        },
        {
          "output_type": "stream",
          "name": "stderr",
          "text": []
        },
        {
          "output_type": "stream",
          "name": "stdout",
          "text": [
            "Epoch 100: train_acc=100.00%  val_acc=69.40%  best_test_acc=68.56%\n"
          ]
        },
        {
          "output_type": "stream",
          "name": "stderr",
          "text": []
        },
        {
          "output_type": "stream",
          "name": "stdout",
          "text": [
            "New best val acc: 69.44%, test acc: 68.60%, saved checkpoint.\n",
            "Epoch 101: train_acc=100.00%  val_acc=69.44%  best_test_acc=68.60%\n"
          ]
        },
        {
          "output_type": "stream",
          "name": "stderr",
          "text": []
        },
        {
          "output_type": "stream",
          "name": "stdout",
          "text": [
            "New best val acc: 69.48%, test acc: 68.64%, saved checkpoint.\n",
            "Epoch 102: train_acc=100.00%  val_acc=69.48%  best_test_acc=68.64%\n"
          ]
        },
        {
          "output_type": "stream",
          "name": "stderr",
          "text": []
        },
        {
          "output_type": "stream",
          "name": "stdout",
          "text": [
            "New best val acc: 69.56%, test acc: 68.66%, saved checkpoint.\n",
            "Epoch 103: train_acc=100.00%  val_acc=69.56%  best_test_acc=68.66%\n"
          ]
        },
        {
          "output_type": "stream",
          "name": "stderr",
          "text": []
        },
        {
          "output_type": "stream",
          "name": "stdout",
          "text": [
            "New best val acc: 69.56%, test acc: 68.67%, saved checkpoint.\n",
            "Epoch 104: train_acc=100.00%  val_acc=69.56%  best_test_acc=68.67%\n"
          ]
        },
        {
          "output_type": "stream",
          "name": "stderr",
          "text": []
        },
        {
          "output_type": "stream",
          "name": "stdout",
          "text": [
            "New best val acc: 69.68%, test acc: 68.69%, saved checkpoint.\n",
            "Epoch 105: train_acc=100.00%  val_acc=69.68%  best_test_acc=68.69%\n"
          ]
        },
        {
          "output_type": "stream",
          "name": "stderr",
          "text": []
        },
        {
          "output_type": "stream",
          "name": "stdout",
          "text": [
            "Epoch 106: train_acc=100.00%  val_acc=69.68%  best_test_acc=68.69%\n"
          ]
        },
        {
          "output_type": "stream",
          "name": "stderr",
          "text": []
        },
        {
          "output_type": "stream",
          "name": "stdout",
          "text": [
            "New best val acc: 69.72%, test acc: 68.80%, saved checkpoint.\n",
            "Epoch 107: train_acc=100.00%  val_acc=69.72%  best_test_acc=68.80%\n"
          ]
        },
        {
          "output_type": "stream",
          "name": "stderr",
          "text": []
        },
        {
          "output_type": "stream",
          "name": "stdout",
          "text": [
            "Epoch 108: train_acc=100.00%  val_acc=69.72%  best_test_acc=68.80%\n"
          ]
        },
        {
          "output_type": "stream",
          "name": "stderr",
          "text": []
        },
        {
          "output_type": "stream",
          "name": "stdout",
          "text": [
            "Epoch 109: train_acc=100.00%  val_acc=69.72%  best_test_acc=68.80%\n"
          ]
        },
        {
          "output_type": "stream",
          "name": "stderr",
          "text": []
        },
        {
          "output_type": "stream",
          "name": "stdout",
          "text": [
            "Epoch 110: train_acc=100.00%  val_acc=69.72%  best_test_acc=68.80%\n"
          ]
        },
        {
          "output_type": "stream",
          "name": "stderr",
          "text": []
        },
        {
          "output_type": "stream",
          "name": "stdout",
          "text": [
            "Epoch 111: train_acc=100.00%  val_acc=69.72%  best_test_acc=68.80%\n"
          ]
        },
        {
          "output_type": "stream",
          "name": "stderr",
          "text": []
        },
        {
          "output_type": "stream",
          "name": "stdout",
          "text": [
            "Epoch 112: train_acc=100.00%  val_acc=69.72%  best_test_acc=68.80%\n"
          ]
        },
        {
          "output_type": "stream",
          "name": "stderr",
          "text": []
        },
        {
          "output_type": "stream",
          "name": "stdout",
          "text": [
            "Epoch 113: train_acc=100.00%  val_acc=69.72%  best_test_acc=68.80%\n"
          ]
        },
        {
          "output_type": "stream",
          "name": "stderr",
          "text": []
        },
        {
          "output_type": "stream",
          "name": "stdout",
          "text": [
            "Epoch 114: train_acc=100.00%  val_acc=69.72%  best_test_acc=68.80%\n"
          ]
        },
        {
          "output_type": "stream",
          "name": "stderr",
          "text": []
        },
        {
          "output_type": "stream",
          "name": "stdout",
          "text": [
            "Epoch 115: train_acc=100.00%  val_acc=69.72%  best_test_acc=68.80%\n"
          ]
        },
        {
          "output_type": "stream",
          "name": "stderr",
          "text": []
        },
        {
          "output_type": "stream",
          "name": "stdout",
          "text": [
            "Epoch 116: train_acc=100.00%  val_acc=69.72%  best_test_acc=68.80%\n"
          ]
        },
        {
          "output_type": "stream",
          "name": "stderr",
          "text": []
        },
        {
          "output_type": "stream",
          "name": "stdout",
          "text": [
            "Epoch 117: train_acc=100.00%  val_acc=69.72%  best_test_acc=68.80%\n"
          ]
        },
        {
          "output_type": "stream",
          "name": "stderr",
          "text": []
        },
        {
          "output_type": "stream",
          "name": "stdout",
          "text": [
            "Epoch 118: train_acc=100.00%  val_acc=69.72%  best_test_acc=68.80%\n"
          ]
        },
        {
          "output_type": "stream",
          "name": "stderr",
          "text": []
        },
        {
          "output_type": "stream",
          "name": "stdout",
          "text": [
            "Epoch 119: train_acc=100.00%  val_acc=69.72%  best_test_acc=68.80%\n"
          ]
        },
        {
          "output_type": "stream",
          "name": "stderr",
          "text": []
        },
        {
          "output_type": "stream",
          "name": "stdout",
          "text": [
            "Epoch 120: train_acc=100.00%  val_acc=69.72%  best_test_acc=68.80%\n"
          ]
        },
        {
          "output_type": "stream",
          "name": "stderr",
          "text": []
        },
        {
          "output_type": "stream",
          "name": "stdout",
          "text": [
            "New best val acc: 69.76%, test acc: 69.32%, saved checkpoint.\n",
            "Epoch 121: train_acc=100.00%  val_acc=69.76%  best_test_acc=69.32%\n"
          ]
        },
        {
          "output_type": "stream",
          "name": "stderr",
          "text": []
        },
        {
          "output_type": "stream",
          "name": "stdout",
          "text": [
            "Epoch 122: train_acc=100.00%  val_acc=69.76%  best_test_acc=69.32%\n"
          ]
        },
        {
          "output_type": "stream",
          "name": "stderr",
          "text": []
        },
        {
          "output_type": "stream",
          "name": "stdout",
          "text": [
            "New best val acc: 69.80%, test acc: 69.35%, saved checkpoint.\n",
            "Epoch 123: train_acc=100.00%  val_acc=69.80%  best_test_acc=69.35%\n"
          ]
        },
        {
          "output_type": "stream",
          "name": "stderr",
          "text": []
        },
        {
          "output_type": "stream",
          "name": "stdout",
          "text": [
            "New best val acc: 69.88%, test acc: 69.37%, saved checkpoint.\n",
            "Epoch 124: train_acc=100.00%  val_acc=69.88%  best_test_acc=69.37%\n"
          ]
        },
        {
          "output_type": "stream",
          "name": "stderr",
          "text": []
        },
        {
          "output_type": "stream",
          "name": "stdout",
          "text": [
            "Epoch 125: train_acc=100.00%  val_acc=69.88%  best_test_acc=69.37%\n"
          ]
        },
        {
          "output_type": "stream",
          "name": "stderr",
          "text": []
        },
        {
          "output_type": "stream",
          "name": "stdout",
          "text": [
            "Epoch 126: train_acc=100.00%  val_acc=69.88%  best_test_acc=69.37%\n"
          ]
        },
        {
          "output_type": "stream",
          "name": "stderr",
          "text": []
        },
        {
          "output_type": "stream",
          "name": "stdout",
          "text": [
            "Epoch 127: train_acc=100.00%  val_acc=69.88%  best_test_acc=69.37%\n"
          ]
        },
        {
          "output_type": "stream",
          "name": "stderr",
          "text": []
        },
        {
          "output_type": "stream",
          "name": "stdout",
          "text": [
            "New best val acc: 69.92%, test acc: 69.37%, saved checkpoint.\n",
            "Epoch 128: train_acc=100.00%  val_acc=69.92%  best_test_acc=69.37%\n"
          ]
        },
        {
          "output_type": "stream",
          "name": "stderr",
          "text": []
        },
        {
          "output_type": "stream",
          "name": "stdout",
          "text": [
            "Epoch 129: train_acc=100.00%  val_acc=69.92%  best_test_acc=69.37%\n"
          ]
        },
        {
          "output_type": "stream",
          "name": "stderr",
          "text": []
        },
        {
          "output_type": "stream",
          "name": "stdout",
          "text": [
            "New best val acc: 69.96%, test acc: 69.39%, saved checkpoint.\n",
            "Epoch 130: train_acc=100.00%  val_acc=69.96%  best_test_acc=69.39%\n"
          ]
        },
        {
          "output_type": "stream",
          "name": "stderr",
          "text": []
        },
        {
          "output_type": "stream",
          "name": "stdout",
          "text": [
            "Epoch 131: train_acc=100.00%  val_acc=69.96%  best_test_acc=69.39%\n"
          ]
        },
        {
          "output_type": "stream",
          "name": "stderr",
          "text": []
        },
        {
          "output_type": "stream",
          "name": "stdout",
          "text": [
            "Epoch 132: train_acc=100.00%  val_acc=69.96%  best_test_acc=69.39%\n"
          ]
        },
        {
          "output_type": "stream",
          "name": "stderr",
          "text": []
        },
        {
          "output_type": "stream",
          "name": "stdout",
          "text": [
            "Epoch 133: train_acc=100.00%  val_acc=69.96%  best_test_acc=69.39%\n"
          ]
        },
        {
          "output_type": "stream",
          "name": "stderr",
          "text": []
        },
        {
          "output_type": "stream",
          "name": "stdout",
          "text": [
            "Epoch 134: train_acc=100.00%  val_acc=69.96%  best_test_acc=69.39%\n"
          ]
        },
        {
          "output_type": "stream",
          "name": "stderr",
          "text": []
        },
        {
          "output_type": "stream",
          "name": "stdout",
          "text": [
            "Epoch 135: train_acc=100.00%  val_acc=69.96%  best_test_acc=69.39%\n"
          ]
        },
        {
          "output_type": "stream",
          "name": "stderr",
          "text": []
        },
        {
          "output_type": "stream",
          "name": "stdout",
          "text": [
            "New best val acc: 69.96%, test acc: 69.47%, saved checkpoint.\n",
            "Epoch 136: train_acc=100.00%  val_acc=69.96%  best_test_acc=69.47%\n"
          ]
        },
        {
          "output_type": "stream",
          "name": "stderr",
          "text": []
        },
        {
          "output_type": "stream",
          "name": "stdout",
          "text": [
            "Epoch 137: train_acc=100.00%  val_acc=69.96%  best_test_acc=69.47%\n"
          ]
        },
        {
          "output_type": "stream",
          "name": "stderr",
          "text": []
        },
        {
          "output_type": "stream",
          "name": "stdout",
          "text": [
            "Epoch 138: train_acc=100.00%  val_acc=69.96%  best_test_acc=69.47%\n"
          ]
        },
        {
          "output_type": "stream",
          "name": "stderr",
          "text": []
        },
        {
          "output_type": "stream",
          "name": "stdout",
          "text": [
            "New best val acc: 70.04%, test acc: 69.43%, saved checkpoint.\n",
            "Epoch 139: train_acc=100.00%  val_acc=70.04%  best_test_acc=69.43%\n"
          ]
        },
        {
          "output_type": "stream",
          "name": "stderr",
          "text": []
        },
        {
          "output_type": "stream",
          "name": "stdout",
          "text": [
            "Epoch 140: train_acc=100.00%  val_acc=70.04%  best_test_acc=69.43%\n"
          ]
        },
        {
          "output_type": "stream",
          "name": "stderr",
          "text": []
        },
        {
          "output_type": "stream",
          "name": "stdout",
          "text": [
            "Epoch 141: train_acc=100.00%  val_acc=70.04%  best_test_acc=69.43%\n"
          ]
        },
        {
          "output_type": "stream",
          "name": "stderr",
          "text": []
        },
        {
          "output_type": "stream",
          "name": "stdout",
          "text": [
            "Epoch 142: train_acc=100.00%  val_acc=70.04%  best_test_acc=69.43%\n"
          ]
        },
        {
          "output_type": "stream",
          "name": "stderr",
          "text": []
        },
        {
          "output_type": "stream",
          "name": "stdout",
          "text": [
            "Epoch 143: train_acc=100.00%  val_acc=70.04%  best_test_acc=69.43%\n"
          ]
        },
        {
          "output_type": "stream",
          "name": "stderr",
          "text": []
        },
        {
          "output_type": "stream",
          "name": "stdout",
          "text": [
            "Epoch 144: train_acc=100.00%  val_acc=70.04%  best_test_acc=69.43%\n"
          ]
        },
        {
          "output_type": "stream",
          "name": "stderr",
          "text": []
        },
        {
          "output_type": "stream",
          "name": "stdout",
          "text": [
            "Epoch 145: train_acc=100.00%  val_acc=70.04%  best_test_acc=69.43%\n"
          ]
        },
        {
          "output_type": "stream",
          "name": "stderr",
          "text": []
        },
        {
          "output_type": "stream",
          "name": "stdout",
          "text": [
            "Epoch 146: train_acc=100.00%  val_acc=70.04%  best_test_acc=69.43%\n"
          ]
        },
        {
          "output_type": "stream",
          "name": "stderr",
          "text": []
        },
        {
          "output_type": "stream",
          "name": "stdout",
          "text": [
            "Epoch 147: train_acc=100.00%  val_acc=70.04%  best_test_acc=69.43%\n"
          ]
        },
        {
          "output_type": "stream",
          "name": "stderr",
          "text": []
        },
        {
          "output_type": "stream",
          "name": "stdout",
          "text": [
            "Epoch 148: train_acc=100.00%  val_acc=70.04%  best_test_acc=69.43%\n"
          ]
        },
        {
          "output_type": "stream",
          "name": "stderr",
          "text": []
        },
        {
          "output_type": "stream",
          "name": "stdout",
          "text": [
            "Epoch 149: train_acc=100.00%  val_acc=70.04%  best_test_acc=69.43%\n"
          ]
        },
        {
          "output_type": "stream",
          "name": "stderr",
          "text": []
        },
        {
          "output_type": "stream",
          "name": "stdout",
          "text": [
            "Epoch 150: train_acc=100.00%  val_acc=70.04%  best_test_acc=69.43%\n",
            "Training complete. Loading best checkpoint and evaluating on test set...\n"
          ]
        },
        {
          "output_type": "stream",
          "name": "stderr",
          "text": [
            "                                                                              "
          ]
        },
        {
          "output_type": "stream",
          "name": "stdout",
          "text": [
            "Best checkpoint test acc: 69.43%\n",
            "Done.\n"
          ]
        },
        {
          "output_type": "stream",
          "name": "stderr",
          "text": [
            "\r"
          ]
        }
      ]
    }
  ]
}